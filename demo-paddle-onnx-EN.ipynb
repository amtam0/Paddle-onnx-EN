{
 "cells": [
  {
   "cell_type": "code",
   "execution_count": null,
   "id": "b2ead9cf",
   "metadata": {},
   "outputs": [],
   "source": [
    "from PIL import Image, ImageDraw\n",
    "import os\n",
    "import numpy as np\n",
    "import paddle_onnx_det_rec_EN"
   ]
  },
  {
   "cell_type": "code",
   "execution_count": null,
   "id": "a6adb1a7",
   "metadata": {},
   "outputs": [],
   "source": [
    "receipt = Image.open(\"example.png\")"
   ]
  },
  {
   "cell_type": "code",
   "execution_count": null,
   "id": "f21726a7",
   "metadata": {
    "scrolled": true
   },
   "outputs": [],
   "source": [
    "ocr_sys = paddle_onnx_det_rec_EN.det_rec_functions(np.array(receipt),\n",
    "                                            det_model = 'models/en_PP-OCRv3_det_infer.onnx',\n",
    "                                           rec_model = 'models/en_PP-OCRv3_rec_infer.onnx',\n",
    "                                              en_dict='models/en_dict.txt')"
   ]
  },
  {
   "cell_type": "code",
   "execution_count": null,
   "id": "5612ed0f",
   "metadata": {},
   "outputs": [],
   "source": [
    "%%time\n",
    "dt_boxes = ocr_sys.get_boxes()\n",
    "dt_boxes"
   ]
  },
  {
   "cell_type": "code",
   "execution_count": null,
   "id": "bba4f2d6",
   "metadata": {},
   "outputs": [],
   "source": [
    "%%time\n",
    "results, results_info = ocr_sys.recognition_img(dt_boxes[:100])"
   ]
  },
  {
   "cell_type": "code",
   "execution_count": null,
   "id": "eedeca22",
   "metadata": {},
   "outputs": [],
   "source": [
    "results_info"
   ]
  }
 ],
 "metadata": {
  "kernelspec": {
   "display_name": "Python [conda env:paddletest] *",
   "language": "python",
   "name": "conda-env-paddletest-py"
  },
  "language_info": {
   "codemirror_mode": {
    "name": "ipython",
    "version": 3
   },
   "file_extension": ".py",
   "mimetype": "text/x-python",
   "name": "python",
   "nbconvert_exporter": "python",
   "pygments_lexer": "ipython3",
   "version": "3.8.0"
  }
 },
 "nbformat": 4,
 "nbformat_minor": 5
}
